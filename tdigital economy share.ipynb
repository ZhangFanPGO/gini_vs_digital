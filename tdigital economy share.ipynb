{
 "cells": [
  {
   "cell_type": "code",
   "id": "initial_id",
   "metadata": {
    "collapsed": true,
    "ExecuteTime": {
     "end_time": "2025-03-02T22:45:56.834077Z",
     "start_time": "2025-03-02T22:45:56.031458Z"
    }
   },
   "source": [
    "\n",
    "from matplotlib import pyplot as plt\n",
    "import numpy as np\n",
    "\n",
    "import pandas as pd\n"
   ],
   "outputs": [],
   "execution_count": 2
  },
  {
   "metadata": {},
   "cell_type": "markdown",
   "source": "# 1",
   "id": "4542e5518d4fb50a"
  },
  {
   "metadata": {
    "ExecuteTime": {
     "end_time": "2025-03-02T22:45:57.711395Z",
     "start_time": "2025-03-02T22:45:57.708524Z"
    }
   },
   "cell_type": "code",
   "source": [
    "def gini(x):\n",
    "    # (Warning: This is a concise implementation, but it is O(n**2)\n",
    "    # in time and memory, where n = len(x).  *Don't* pass in huge\n",
    "    # samples!)\n",
    "\n",
    "    # Mean absolute difference\n",
    "    mad = np.abs(np.subtract.outer(x, x)).mean()\n",
    "    # Relative mean absolute difference\n",
    "    rmad = mad/np.mean(x)\n",
    "    # Gini coefficient\n",
    "    g = 0.5 * rmad\n",
    "    return g"
   ],
   "id": "8aba8544e40fee89",
   "outputs": [],
   "execution_count": 3
  },
  {
   "metadata": {
    "ExecuteTime": {
     "end_time": "2025-03-02T22:45:59.199371Z",
     "start_time": "2025-03-02T22:45:59.189074Z"
    }
   },
   "cell_type": "code",
   "source": [
    "# get 1000 random numbers between 0 and 10000\n",
    "income_of_all_people = np.random.rand(1000)*10000\n",
    "print(gini(income_of_all_people))"
   ],
   "id": "1bef8948f9950fb7",
   "outputs": [
    {
     "name": "stdout",
     "output_type": "stream",
     "text": [
      "0.33493377028652077\n"
     ]
    }
   ],
   "execution_count": 4
  },
  {
   "metadata": {
    "ExecuteTime": {
     "end_time": "2025-03-02T23:01:49.033817Z",
     "start_time": "2025-03-02T23:01:49.019014Z"
    }
   },
   "cell_type": "code",
   "source": [
    "# load the data income.html\n",
    "tabel = pd.read_html(\"income.html\")"
   ],
   "id": "5783d41dc7883bc7",
   "outputs": [],
   "execution_count": 21
  },
  {
   "metadata": {
    "ExecuteTime": {
     "end_time": "2025-03-02T23:01:50.579659Z",
     "start_time": "2025-03-02T23:01:50.577746Z"
    }
   },
   "cell_type": "code",
   "source": "income_distribution_by_percentile = tabel[0]",
   "id": "456edffb23dab89",
   "outputs": [],
   "execution_count": 22
  },
  {
   "metadata": {
    "ExecuteTime": {
     "end_time": "2025-03-02T23:01:52.091756Z",
     "start_time": "2025-03-02T23:01:52.077877Z"
    }
   },
   "cell_type": "code",
   "source": [
    "# drop the 0 and 1 column\n",
    "income_distribution_by_percentile = income_distribution_by_percentile.drop(index=[0, 1], axis=0)\n",
    "#drop 2011 ,2012 and 2023\n",
    "income_distribution_by_percentile = income_distribution_by_percentile.drop(columns=['2011', '2012', '2023'])\n",
    "income_distribution_by_percentile"
   ],
   "id": "28f53b8ef37edfdc",
   "outputs": [
    {
     "data": {
      "text/plain": [
       "         Unnamed: 0  2013  2014  2015  2016  2017  2018  2019  2020  2021  \\\n",
       "2      Percentile 1  -0.2  -0.2  -0.2  -0.2  -0.1  -0.1  -0.2  -0.2  -0.1   \n",
       "3      Percentile 2   0.0   0.0   0.0   0.0   0.0   0.0   0.0   0.0   0.0   \n",
       "4      Percentile 3   0.0   0.0   0.0   0.0   0.0   0.0   0.0   0.0   0.0   \n",
       "5      Percentile 4   0.0   0.0   0.0   0.0   0.0   0.0   0.0   0.0   0.0   \n",
       "6      Percentile 5   0.0   0.0   0.0   0.0   0.0   0.0   0.0   0.0   0.0   \n",
       "..              ...   ...   ...   ...   ...   ...   ...   ...   ...   ...   \n",
       "97    Percentile 96   2.5   2.6   2.6   2.5   2.5   2.5   2.5   2.5   2.5   \n",
       "98    Percentile 97   2.8   2.8   2.8   2.8   2.8   2.7   2.7   2.7   2.8   \n",
       "99    Percentile 98   3.1   3.2   3.3   3.3   3.3   3.1   3.1   3.1   3.2   \n",
       "100   Percentile 99   3.8   4.0   4.2   4.2   4.2   3.9   3.9   3.9   4.2   \n",
       "101  Percentile 100   9.0   9.7  10.9  11.7  11.6  11.3  11.2  11.2  13.7   \n",
       "\n",
       "     2022  \n",
       "2    -0.2  \n",
       "3     0.0  \n",
       "4     0.0  \n",
       "5     0.0  \n",
       "6     0.0  \n",
       "..    ...  \n",
       "97    2.5  \n",
       "98    2.7  \n",
       "99    3.2  \n",
       "100   4.1  \n",
       "101  13.2  \n",
       "\n",
       "[100 rows x 11 columns]"
      ],
      "text/html": [
       "<div>\n",
       "<style scoped>\n",
       "    .dataframe tbody tr th:only-of-type {\n",
       "        vertical-align: middle;\n",
       "    }\n",
       "\n",
       "    .dataframe tbody tr th {\n",
       "        vertical-align: top;\n",
       "    }\n",
       "\n",
       "    .dataframe thead th {\n",
       "        text-align: right;\n",
       "    }\n",
       "</style>\n",
       "<table border=\"1\" class=\"dataframe\">\n",
       "  <thead>\n",
       "    <tr style=\"text-align: right;\">\n",
       "      <th></th>\n",
       "      <th>Unnamed: 0</th>\n",
       "      <th>2013</th>\n",
       "      <th>2014</th>\n",
       "      <th>2015</th>\n",
       "      <th>2016</th>\n",
       "      <th>2017</th>\n",
       "      <th>2018</th>\n",
       "      <th>2019</th>\n",
       "      <th>2020</th>\n",
       "      <th>2021</th>\n",
       "      <th>2022</th>\n",
       "    </tr>\n",
       "  </thead>\n",
       "  <tbody>\n",
       "    <tr>\n",
       "      <th>2</th>\n",
       "      <td>Percentile 1</td>\n",
       "      <td>-0.2</td>\n",
       "      <td>-0.2</td>\n",
       "      <td>-0.2</td>\n",
       "      <td>-0.2</td>\n",
       "      <td>-0.1</td>\n",
       "      <td>-0.1</td>\n",
       "      <td>-0.2</td>\n",
       "      <td>-0.2</td>\n",
       "      <td>-0.1</td>\n",
       "      <td>-0.2</td>\n",
       "    </tr>\n",
       "    <tr>\n",
       "      <th>3</th>\n",
       "      <td>Percentile 2</td>\n",
       "      <td>0.0</td>\n",
       "      <td>0.0</td>\n",
       "      <td>0.0</td>\n",
       "      <td>0.0</td>\n",
       "      <td>0.0</td>\n",
       "      <td>0.0</td>\n",
       "      <td>0.0</td>\n",
       "      <td>0.0</td>\n",
       "      <td>0.0</td>\n",
       "      <td>0.0</td>\n",
       "    </tr>\n",
       "    <tr>\n",
       "      <th>4</th>\n",
       "      <td>Percentile 3</td>\n",
       "      <td>0.0</td>\n",
       "      <td>0.0</td>\n",
       "      <td>0.0</td>\n",
       "      <td>0.0</td>\n",
       "      <td>0.0</td>\n",
       "      <td>0.0</td>\n",
       "      <td>0.0</td>\n",
       "      <td>0.0</td>\n",
       "      <td>0.0</td>\n",
       "      <td>0.0</td>\n",
       "    </tr>\n",
       "    <tr>\n",
       "      <th>5</th>\n",
       "      <td>Percentile 4</td>\n",
       "      <td>0.0</td>\n",
       "      <td>0.0</td>\n",
       "      <td>0.0</td>\n",
       "      <td>0.0</td>\n",
       "      <td>0.0</td>\n",
       "      <td>0.0</td>\n",
       "      <td>0.0</td>\n",
       "      <td>0.0</td>\n",
       "      <td>0.0</td>\n",
       "      <td>0.0</td>\n",
       "    </tr>\n",
       "    <tr>\n",
       "      <th>6</th>\n",
       "      <td>Percentile 5</td>\n",
       "      <td>0.0</td>\n",
       "      <td>0.0</td>\n",
       "      <td>0.0</td>\n",
       "      <td>0.0</td>\n",
       "      <td>0.0</td>\n",
       "      <td>0.0</td>\n",
       "      <td>0.0</td>\n",
       "      <td>0.0</td>\n",
       "      <td>0.0</td>\n",
       "      <td>0.0</td>\n",
       "    </tr>\n",
       "    <tr>\n",
       "      <th>...</th>\n",
       "      <td>...</td>\n",
       "      <td>...</td>\n",
       "      <td>...</td>\n",
       "      <td>...</td>\n",
       "      <td>...</td>\n",
       "      <td>...</td>\n",
       "      <td>...</td>\n",
       "      <td>...</td>\n",
       "      <td>...</td>\n",
       "      <td>...</td>\n",
       "      <td>...</td>\n",
       "    </tr>\n",
       "    <tr>\n",
       "      <th>97</th>\n",
       "      <td>Percentile 96</td>\n",
       "      <td>2.5</td>\n",
       "      <td>2.6</td>\n",
       "      <td>2.6</td>\n",
       "      <td>2.5</td>\n",
       "      <td>2.5</td>\n",
       "      <td>2.5</td>\n",
       "      <td>2.5</td>\n",
       "      <td>2.5</td>\n",
       "      <td>2.5</td>\n",
       "      <td>2.5</td>\n",
       "    </tr>\n",
       "    <tr>\n",
       "      <th>98</th>\n",
       "      <td>Percentile 97</td>\n",
       "      <td>2.8</td>\n",
       "      <td>2.8</td>\n",
       "      <td>2.8</td>\n",
       "      <td>2.8</td>\n",
       "      <td>2.8</td>\n",
       "      <td>2.7</td>\n",
       "      <td>2.7</td>\n",
       "      <td>2.7</td>\n",
       "      <td>2.8</td>\n",
       "      <td>2.7</td>\n",
       "    </tr>\n",
       "    <tr>\n",
       "      <th>99</th>\n",
       "      <td>Percentile 98</td>\n",
       "      <td>3.1</td>\n",
       "      <td>3.2</td>\n",
       "      <td>3.3</td>\n",
       "      <td>3.3</td>\n",
       "      <td>3.3</td>\n",
       "      <td>3.1</td>\n",
       "      <td>3.1</td>\n",
       "      <td>3.1</td>\n",
       "      <td>3.2</td>\n",
       "      <td>3.2</td>\n",
       "    </tr>\n",
       "    <tr>\n",
       "      <th>100</th>\n",
       "      <td>Percentile 99</td>\n",
       "      <td>3.8</td>\n",
       "      <td>4.0</td>\n",
       "      <td>4.2</td>\n",
       "      <td>4.2</td>\n",
       "      <td>4.2</td>\n",
       "      <td>3.9</td>\n",
       "      <td>3.9</td>\n",
       "      <td>3.9</td>\n",
       "      <td>4.2</td>\n",
       "      <td>4.1</td>\n",
       "    </tr>\n",
       "    <tr>\n",
       "      <th>101</th>\n",
       "      <td>Percentile 100</td>\n",
       "      <td>9.0</td>\n",
       "      <td>9.7</td>\n",
       "      <td>10.9</td>\n",
       "      <td>11.7</td>\n",
       "      <td>11.6</td>\n",
       "      <td>11.3</td>\n",
       "      <td>11.2</td>\n",
       "      <td>11.2</td>\n",
       "      <td>13.7</td>\n",
       "      <td>13.2</td>\n",
       "    </tr>\n",
       "  </tbody>\n",
       "</table>\n",
       "<p>100 rows × 11 columns</p>\n",
       "</div>"
      ]
     },
     "execution_count": 23,
     "metadata": {},
     "output_type": "execute_result"
    }
   ],
   "execution_count": 23
  },
  {
   "metadata": {
    "ExecuteTime": {
     "end_time": "2025-03-02T23:01:55.457274Z",
     "start_time": "2025-03-02T23:01:55.366558Z"
    }
   },
   "cell_type": "code",
   "source": [
    "#\n",
    "years = income_distribution_by_percentile.columns[1:]\n",
    "ginis = []\n",
    "for year in years:\n",
    "    ginis.append( gini(list(income_distribution_by_percentile[year])))\n",
    "plt.plot(years, ginis)\n",
    "\n",
    "#gini(income_distribution_by_percentile['2011'])"
   ],
   "id": "40670177c24fdbc3",
   "outputs": [
    {
     "data": {
      "text/plain": [
       "[<matplotlib.lines.Line2D at 0x78b05a27fe60>]"
      ]
     },
     "execution_count": 24,
     "metadata": {},
     "output_type": "execute_result"
    },
    {
     "data": {
      "text/plain": [
       "<Figure size 640x480 with 1 Axes>"
      ],
      "image/png": "[encoded data removed]"
     },
     "metadata": {},
     "output_type": "display_data"
    }
   ],
   "execution_count": 24
  },
  {
   "metadata": {
    "ExecuteTime": {
     "end_time": "2025-03-02T20:44:42.959588Z",
     "start_time": "2025-03-02T20:44:42.956911Z"
    }
   },
   "cell_type": "code",
   "source": [
    "def iso_gini(x,l,u):\n",
    "    \"\"\" Returns the value of the Lorenz curve at p \"\"\"\n",
    "\n",
    "    lower = int(l * len(x))\n",
    "    upper = int(u * len(x))\n",
    "    print(lower, upper)\n",
    "    return gini(x[lower:upper])"
   ],
   "id": "c51d1afccd0046df",
   "outputs": [],
   "execution_count": 104
  },
  {
   "metadata": {
    "ExecuteTime": {
     "end_time": "2025-03-02T23:01:59.151382Z",
     "start_time": "2025-03-02T23:01:59.135090Z"
    }
   },
   "cell_type": "code",
   "source": [
    "# plot the iso gini curve for p = 0.2, 0.4, 0.6, 0.8 and all years\n",
    "\n",
    "plt.figure(figsize=(10, 6))\n",
    "\n",
    " # values form 0.1 to 1 in steps of 0.1\n",
    "p_values = [[0, 0.4], [0.4,0.8], [0.8, 0.99]]\n",
    "print(p_values)\n",
    "for p in p_values:\n",
    "    iso_gini_values = []\n",
    "    for year in years:\n",
    "        iso_gini_values.append(iso_gini(list(income_distribution_by_percentile[year]), p[0], p[1]))\n",
    "    plt.plot(years, iso_gini_values, marker='o', label=f\"p={p}\")\n",
    "\n",
    "plt.xlabel(\"Year\")\n",
    "plt.ylabel(\"Iso Gini Coefficient\")\n",
    "plt.title(\"Iso-Gini Curves for Selected p-values\")\n",
    "plt.legend(title=\"Parameters\")\n",
    "plt.grid(True)\n",
    "plt.tight_layout()\n",
    "plt.show()"
   ],
   "id": "1d3225fb0dd184d7",
   "outputs": [
    {
     "name": "stdout",
     "output_type": "stream",
     "text": [
      "[[0, 0.4], [0.4, 0.8], [0.8, 0.99]]\n"
     ]
    },
    {
     "ename": "NameError",
     "evalue": "name 'iso_gini' is not defined",
     "output_type": "error",
     "traceback": [
      "\u001B[0;31m---------------------------------------------------------------------------\u001B[0m",
      "\u001B[0;31mNameError\u001B[0m                                 Traceback (most recent call last)",
      "Cell \u001B[0;32mIn[25], line 11\u001B[0m\n\u001B[1;32m      9\u001B[0m     iso_gini_values \u001B[38;5;241m=\u001B[39m []\n\u001B[1;32m     10\u001B[0m     \u001B[38;5;28;01mfor\u001B[39;00m year \u001B[38;5;129;01min\u001B[39;00m years:\n\u001B[0;32m---> 11\u001B[0m         iso_gini_values\u001B[38;5;241m.\u001B[39mappend(iso_gini(\u001B[38;5;28mlist\u001B[39m(income_distribution_by_percentile[year]), p[\u001B[38;5;241m0\u001B[39m], p[\u001B[38;5;241m1\u001B[39m]))\n\u001B[1;32m     12\u001B[0m     plt\u001B[38;5;241m.\u001B[39mplot(years, iso_gini_values, marker\u001B[38;5;241m=\u001B[39m\u001B[38;5;124m'\u001B[39m\u001B[38;5;124mo\u001B[39m\u001B[38;5;124m'\u001B[39m, label\u001B[38;5;241m=\u001B[39m\u001B[38;5;124mf\u001B[39m\u001B[38;5;124m\"\u001B[39m\u001B[38;5;124mp=\u001B[39m\u001B[38;5;132;01m{\u001B[39;00mp\u001B[38;5;132;01m}\u001B[39;00m\u001B[38;5;124m\"\u001B[39m)\n\u001B[1;32m     14\u001B[0m plt\u001B[38;5;241m.\u001B[39mxlabel(\u001B[38;5;124m\"\u001B[39m\u001B[38;5;124mYear\u001B[39m\u001B[38;5;124m\"\u001B[39m)\n",
      "\u001B[0;31mNameError\u001B[0m: name 'iso_gini' is not defined"
     ]
    },
    {
     "data": {
      "text/plain": [
       "<Figure size 1000x600 with 0 Axes>"
      ]
     },
     "metadata": {},
     "output_type": "display_data"
    }
   ],
   "execution_count": 25
  },
  {
   "metadata": {
    "ExecuteTime": {
     "end_time": "2025-03-02T23:02:03.520933Z",
     "start_time": "2025-03-02T23:02:03.397381Z"
    }
   },
   "cell_type": "code",
   "source": [
    "# do a plot on only gini\n",
    "plt.figure(figsize=(10, 6))\n",
    "plt.plot(years, ginis, marker='o')\n",
    "plt.xlabel(\"Year\")\n",
    "plt.ylabel(\"Gini Coefficient\")\n",
    "plt.title(\"Gini Coefficient over Time\")\n",
    "plt.grid(True)\n",
    "plt.tight_layout()\n",
    "plt.show()"
   ],
   "id": "db581d7a0e758bf6",
   "outputs": [
    {
     "data": {
      "text/plain": [
       "<Figure size 1000x600 with 1 Axes>"
      ],
      "image/png": "[encoded data removed]"
     },
     "metadata": {},
     "output_type": "display_data"
    }
   ],
   "execution_count": 26
  },
  {
   "metadata": {
    "ExecuteTime": {
     "end_time": "2025-03-02T22:58:14.031173Z",
     "start_time": "2025-03-02T22:58:14.027307Z"
    }
   },
   "cell_type": "code",
   "source": "",
   "id": "bf8d14666ca07feb",
   "outputs": [],
   "execution_count": 16
  },
  {
   "metadata": {
    "ExecuteTime": {
     "end_time": "2025-03-02T23:10:12.212411Z",
     "start_time": "2025-03-02T23:10:12.199242Z"
    }
   },
   "cell_type": "code",
   "source": [
    "# Define the data\n",
    "data = {\n",
    "    \"Year\": [2013, 2014, 2015, 2016, 2017, 2018, 2019, 2020, 2021, 2022],\n",
    "    \"SMEs with Online Sales (%)\": [0.22, 0.24, 0.26, 0.28, 0.30, 0.30, 0.30, 0.31, 0.33, 0.33],\n",
    "    \"E-commerce Revenue Share (%)\": [\"10% (Estimate)\", \"12% (Estimate)\", \"15% (Estimate)\", \"16% (Estimate)\", \"18% (DESI)\", \"18% (DESI)\", \"18% (DESI)\", \"15% (DESI)\", \"19% (DESI)\", \"19% (DESI)\"],\n",
    "    \"E-commerce Contribution (%)\": [\"1.1%\", \"1.4%\", \"1.95%\", \"2.24%\", \"2.7%\", \"2.7%\", \"2.7%\", \"2.33%\", \"3.13%\", \"3.13%\"],\n",
    "    \"ICT Sector Contribution (%)\": [\"8.0%\", \"8.5%\", \"9.0%\", \"9.0%\", \"10.0%\", \"10.5%\", \"11.0%\", \"11.5%\", \"12.0%\", \"12.5%\"],\n",
    "    \"Cloud/AI Contribution (%)\": [\"2.0%\", \"2.2%\", \"2.5%\", \"2.7%\", \"3.0%\", \"3.5%\", \"4.0%\", \"5.0%\", \"6.0%\", \"8.9%\"],\n",
    "    \"Total Digital Economy Share (%)\": [\"11.1%\", \"12.1%\", \"13.5%\", \"13.9%\", \"15.7%\", \"16.7%\", \"17.7%\", \"18.8%\", \"21.1%\", \"24.5%\"]\n",
    "}\n",
    "\n",
    "# Create the DataFrame\n",
    "digtal_indicators = pd.DataFrame(data)\n",
    "\n",
    "# Display the DataFrame\n",
    "print(digtal_indicators)"
   ],
   "id": "da4c52a424bca43a",
   "outputs": [
    {
     "name": "stdout",
     "output_type": "stream",
     "text": [
      "   Year  SMEs with Online Sales (%) E-commerce Revenue Share (%)  \\\n",
      "0  2013                        0.22               10% (Estimate)   \n",
      "1  2014                        0.24               12% (Estimate)   \n",
      "2  2015                        0.26               15% (Estimate)   \n",
      "3  2016                        0.28               16% (Estimate)   \n",
      "4  2017                        0.30                   18% (DESI)   \n",
      "5  2018                        0.30                   18% (DESI)   \n",
      "6  2019                        0.30                   18% (DESI)   \n",
      "7  2020                        0.31                   15% (DESI)   \n",
      "8  2021                        0.33                   19% (DESI)   \n",
      "9  2022                        0.33                   19% (DESI)   \n",
      "\n",
      "  E-commerce Contribution (%) ICT Sector Contribution (%)  \\\n",
      "0                        1.1%                        8.0%   \n",
      "1                        1.4%                        8.5%   \n",
      "2                       1.95%                        9.0%   \n",
      "3                       2.24%                        9.0%   \n",
      "4                        2.7%                       10.0%   \n",
      "5                        2.7%                       10.5%   \n",
      "6                        2.7%                       11.0%   \n",
      "7                       2.33%                       11.5%   \n",
      "8                       3.13%                       12.0%   \n",
      "9                       3.13%                       12.5%   \n",
      "\n",
      "  Cloud/AI Contribution (%) Total Digital Economy Share (%)  \n",
      "0                      2.0%                           11.1%  \n",
      "1                      2.2%                           12.1%  \n",
      "2                      2.5%                           13.5%  \n",
      "3                      2.7%                           13.9%  \n",
      "4                      3.0%                           15.7%  \n",
      "5                      3.5%                           16.7%  \n",
      "6                      4.0%                           17.7%  \n",
      "7                      5.0%                           18.8%  \n",
      "8                      6.0%                           21.1%  \n",
      "9                      8.9%                           24.5%  \n"
     ]
    }
   ],
   "execution_count": 37
  },
  {
   "metadata": {
    "ExecuteTime": {
     "end_time": "2025-03-02T23:10:24.941823Z",
     "start_time": "2025-03-02T23:10:24.927820Z"
    }
   },
   "cell_type": "code",
   "source": [
    "digtal_indicators[\"Gini Coefficient\"] = ginis\n",
    "# Ensure the columns are strings before using the .str accessor\n",
    "for col in digtal_indicators.columns[1:-1]:\n",
    "    digtal_indicators[col] = digtal_indicators[col].astype(str).str.extract(r'(\\d+\\.\\d+|\\d+)%').astype(float)\n",
    "\n",
    "\n",
    "# Calculate the correlation matrix\n",
    "correlation_matrix = digtal_indicators.corr()\n",
    "print(digtal_indicators)\n",
    "# Display the correlation matrix\n",
    "print(correlation_matrix)"
   ],
   "id": "819305f9860e5139",
   "outputs": [
    {
     "name": "stdout",
     "output_type": "stream",
     "text": [
      "   Year  SMEs with Online Sales (%)  E-commerce Revenue Share (%)  \\\n",
      "0  2013                         NaN                          10.0   \n",
      "1  2014                         NaN                          12.0   \n",
      "2  2015                         NaN                          15.0   \n",
      "3  2016                         NaN                          16.0   \n",
      "4  2017                         NaN                          18.0   \n",
      "5  2018                         NaN                          18.0   \n",
      "6  2019                         NaN                          18.0   \n",
      "7  2020                         NaN                          15.0   \n",
      "8  2021                         NaN                          19.0   \n",
      "9  2022                         NaN                          19.0   \n",
      "\n",
      "   E-commerce Contribution (%)  ICT Sector Contribution (%)  \\\n",
      "0                         1.10                          8.0   \n",
      "1                         1.40                          8.5   \n",
      "2                         1.95                          9.0   \n",
      "3                         2.24                          9.0   \n",
      "4                         2.70                         10.0   \n",
      "5                         2.70                         10.5   \n",
      "6                         2.70                         11.0   \n",
      "7                         2.33                         11.5   \n",
      "8                         3.13                         12.0   \n",
      "9                         3.13                         12.5   \n",
      "\n",
      "   Cloud/AI Contribution (%)  Total Digital Economy Share (%)  \\\n",
      "0                        2.0                             11.1   \n",
      "1                        2.2                             12.1   \n",
      "2                        2.5                             13.5   \n",
      "3                        2.7                             13.9   \n",
      "4                        3.0                             15.7   \n",
      "5                        3.5                             16.7   \n",
      "6                        4.0                             17.7   \n",
      "7                        5.0                             18.8   \n",
      "8                        6.0                             21.1   \n",
      "9                        8.9                             24.5   \n",
      "\n",
      "   Gini Coefficient  \n",
      "0          0.491023  \n",
      "1          0.498300  \n",
      "2          0.508280  \n",
      "3          0.511958  \n",
      "4          0.509980  \n",
      "5          0.503514  \n",
      "6          0.505912  \n",
      "7          0.510602  \n",
      "8          0.525509  \n",
      "9          0.519880  \n",
      "                                     Year  SMEs with Online Sales (%)  \\\n",
      "Year                             1.000000                         NaN   \n",
      "SMEs with Online Sales (%)            NaN                         NaN   \n",
      "E-commerce Revenue Share (%)     0.816850                         NaN   \n",
      "E-commerce Contribution (%)      0.901950                         NaN   \n",
      "ICT Sector Contribution (%)      0.994937                         NaN   \n",
      "Cloud/AI Contribution (%)        0.903063                         NaN   \n",
      "Total Digital Economy Share (%)  0.977985                         NaN   \n",
      "Gini Coefficient                 0.811965                         NaN   \n",
      "\n",
      "                                 E-commerce Revenue Share (%)  \\\n",
      "Year                                                 0.816850   \n",
      "SMEs with Online Sales (%)                                NaN   \n",
      "E-commerce Revenue Share (%)                         1.000000   \n",
      "E-commerce Contribution (%)                          0.982556   \n",
      "ICT Sector Contribution (%)                          0.798201   \n",
      "Cloud/AI Contribution (%)                            0.633933   \n",
      "Total Digital Economy Share (%)                      0.781469   \n",
      "Gini Coefficient                                     0.797940   \n",
      "\n",
      "                                 E-commerce Contribution (%)  \\\n",
      "Year                                                0.901950   \n",
      "SMEs with Online Sales (%)                               NaN   \n",
      "E-commerce Revenue Share (%)                        0.982556   \n",
      "E-commerce Contribution (%)                         1.000000   \n",
      "ICT Sector Contribution (%)                         0.886490   \n",
      "Cloud/AI Contribution (%)                           0.740138   \n",
      "Total Digital Economy Share (%)                     0.870985   \n",
      "Gini Coefficient                                    0.841063   \n",
      "\n",
      "                                 ICT Sector Contribution (%)  \\\n",
      "Year                                                0.994937   \n",
      "SMEs with Online Sales (%)                               NaN   \n",
      "E-commerce Revenue Share (%)                        0.798201   \n",
      "E-commerce Contribution (%)                         0.886490   \n",
      "ICT Sector Contribution (%)                         1.000000   \n",
      "Cloud/AI Contribution (%)                           0.903839   \n",
      "Total Digital Economy Share (%)                     0.978078   \n",
      "Gini Coefficient                                    0.780860   \n",
      "\n",
      "                                 Cloud/AI Contribution (%)  \\\n",
      "Year                                              0.903063   \n",
      "SMEs with Online Sales (%)                             NaN   \n",
      "E-commerce Revenue Share (%)                      0.633933   \n",
      "E-commerce Contribution (%)                       0.740138   \n",
      "ICT Sector Contribution (%)                       0.903839   \n",
      "Cloud/AI Contribution (%)                         1.000000   \n",
      "Total Digital Economy Share (%)                   0.967556   \n",
      "Gini Coefficient                                  0.744494   \n",
      "\n",
      "                                 Total Digital Economy Share (%)  \\\n",
      "Year                                                    0.977985   \n",
      "SMEs with Online Sales (%)                                   NaN   \n",
      "E-commerce Revenue Share (%)                            0.781469   \n",
      "E-commerce Contribution (%)                             0.870985   \n",
      "ICT Sector Contribution (%)                             0.978078   \n",
      "Cloud/AI Contribution (%)                               0.967556   \n",
      "Total Digital Economy Share (%)                         1.000000   \n",
      "Gini Coefficient                                        0.807526   \n",
      "\n",
      "                                 Gini Coefficient  \n",
      "Year                                     0.811965  \n",
      "SMEs with Online Sales (%)                    NaN  \n",
      "E-commerce Revenue Share (%)             0.797940  \n",
      "E-commerce Contribution (%)              0.841063  \n",
      "ICT Sector Contribution (%)              0.780860  \n",
      "Cloud/AI Contribution (%)                0.744494  \n",
      "Total Digital Economy Share (%)          0.807526  \n",
      "Gini Coefficient                         1.000000  \n"
     ]
    }
   ],
   "execution_count": 38
  },
  {
   "metadata": {
    "ExecuteTime": {
     "end_time": "2025-03-02T23:13:49.797429Z",
     "start_time": "2025-03-02T23:13:49.792247Z"
    }
   },
   "cell_type": "code",
   "source": [
    "import pandas as pd\n",
    "\n",
    "# Define the data\n",
    "data = {\n",
    "    \"Year\": [2013, 2014, 2015, 2016, 2017, 2018, 2019, 2020, 2021, 2022],\n",
    "    \"SMEs with Online Sales (%)\": [0.22, 0.24, 0.26, 0.28, 0.30, 0.30, 0.30, 0.31, 0.33, 0.33],\n",
    "    \"E-commerce Revenue Share (%)\": [10, 12, 15, 16, 18, 18, 18, 15, 19, 19],\n",
    "    \"E-commerce Contribution (%)\": [1.1, 1.4, 1.95, 2.24, 2.7, 2.7, 2.7, 2.33, 3.13, 3.13],\n",
    "    \"ICT Sector Contribution (%)\": [8.0, 8.5, 9.0, 9.0, 10.0, 10.5, 11.0, 11.5, 12.0, 12.5],\n",
    "    \"Cloud/AI Contribution (%)\": [2.0, 2.2, 2.5, 2.7, 3.0, 3.5, 4.0, 5.0, 6.0, 8.9],\n",
    "    \"Total Digital Economy Share (%)\": [11.1, 12.1, 13.5, 13.9, 15.7, 16.7, 17.7, 18.8, 21.1, 24.5]\n",
    "}\n",
    "\n",
    "# Create the DataFrame\n",
    "digtal_indicators = pd.DataFrame(data)\n",
    "\n",
    "# Assuming `ginis` is your list of Gini coefficients\n",
    "ginis = [0.490, 0.485, 0.490, 0.497, 0.507, 0.512, 0.511, 0.503, 0.504, 0.510]\n",
    "\n",
    "# Add the Gini coefficients to the DataFrame\n",
    "digtal_indicators[\"Gini Coefficient\"] = ginis\n",
    "\n",
    "# Calculate the correlation matrix\n",
    "correlation_matrix = digtal_indicators.corr()\n",
    "\n",
    "# Display the correlation matrix\n",
    "#print(correlation_matrix)\n",
    "\n",
    "# Identify the most relevant indicators based on their correlation with the Gini coefficient\n",
    "relevance = correlation_matrix[\"Gini Coefficient\"].sort_values(ascending=False)\n",
    "print(relevance)"
   ],
   "id": "8782d5f947b8118d",
   "outputs": [
    {
     "name": "stdout",
     "output_type": "stream",
     "text": [
      "Gini Coefficient                   1.000000\n",
      "E-commerce Contribution (%)        0.869758\n",
      "E-commerce Revenue Share (%)       0.849597\n",
      "SMEs with Online Sales (%)         0.839159\n",
      "Year                               0.795516\n",
      "ICT Sector Contribution (%)        0.791621\n",
      "Total Digital Economy Share (%)    0.741233\n",
      "Cloud/AI Contribution (%)          0.597329\n",
      "Name: Gini Coefficient, dtype: float64\n"
     ]
    }
   ],
   "execution_count": 41
  },
  {
   "metadata": {
    "ExecuteTime": {
     "end_time": "2025-03-02T23:14:43.817607Z",
     "start_time": "2025-03-02T23:14:43.339832Z"
    }
   },
   "cell_type": "code",
   "source": [
    "from scipy.stats import pearsonr\n",
    "# Calculate the correlation and p-value for each indicator with respect to the Gini coefficient\n",
    "results = []\n",
    "for col in digtal_indicators.columns[1:-1]:\n",
    "    corr, p_value = pearsonr(digtal_indicators[col], digtal_indicators[\"Gini Coefficient\"])\n",
    "    results.append({\"Indicator\": col, \"Correlation\": corr, \"P-value\": p_value})\n",
    "\n",
    "# Create a DataFrame to display the results\n",
    "results_df = pd.DataFrame(results)\n",
    "\n",
    "# Display the results\n",
    "print(results_df)"
   ],
   "id": "7f218a5b8338df62",
   "outputs": [
    {
     "name": "stdout",
     "output_type": "stream",
     "text": [
      "                         Indicator  Correlation   P-value\n",
      "0       SMEs with Online Sales (%)     0.839159  0.002400\n",
      "1     E-commerce Revenue Share (%)     0.849597  0.001859\n",
      "2      E-commerce Contribution (%)     0.869758  0.001073\n",
      "3      ICT Sector Contribution (%)     0.791621  0.006360\n",
      "4        Cloud/AI Contribution (%)     0.597329  0.068231\n",
      "5  Total Digital Economy Share (%)     0.741233  0.014157\n"
     ]
    }
   ],
   "execution_count": 42
  }
 ],
 "metadata": {
  "kernelspec": {
   "display_name": "Python 3",
   "language": "python",
   "name": "python3"
  },
  "language_info": {
   "codemirror_mode": {
    "name": "ipython",
    "version": 2
   },
   "file_extension": ".py",
   "mimetype": "text/x-python",
   "name": "python",
   "nbconvert_exporter": "python",
   "pygments_lexer": "ipython2",
   "version": "2.7.6"
  }
 },
 "nbformat": 4,
 "nbformat_minor": 5
}
